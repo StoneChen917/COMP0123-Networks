{
 "cells": [
  {
   "cell_type": "code",
   "execution_count": 40,
   "metadata": {},
   "outputs": [],
   "source": [
    "import pandas as pd"
   ]
  },
  {
   "cell_type": "code",
   "execution_count": 41,
   "metadata": {},
   "outputs": [],
   "source": [
    "# # Step 1: Read the original CSV\n",
    "# df = pd.read_csv('Forestry_Trade_Flows_All_Data/Forestry_Trade_Flows_E_All_Data.csv', encoding='ISO-8859-1')\n",
    "# print(len(df))\n",
    "# # Step 2: Split the DataFrame into two halves\n",
    "# split_index = len(df) // 2\n",
    "# df1 = df.iloc[:split_index]\n",
    "# df2 = df.iloc[split_index:]\n",
    "\n",
    "# # Step 3: Save each part to a separate CSV file\n",
    "# df1.to_csv('Forestry_Trade_Flows_All_Data/Forestry_Trade_Flows_E_All_Data_1.csv', index=False)\n",
    "# df2.to_csv('Forestry_Trade_Flows_All_Data/Forestry_Trade_Flows_E_All_Data_2.csv', index=False)\n",
    "\n",
    "# Step 4: Read the two CSV files\n"
   ]
  },
  {
   "cell_type": "code",
   "execution_count": 46,
   "metadata": {},
   "outputs": [
    {
     "name": "stdout",
     "output_type": "stream",
     "text": [
      "8380\n",
      "0.28162387417663665 4463 2975 1487\n"
     ]
    },
    {
     "name": "stderr",
     "output_type": "stream",
     "text": [
      "/var/folders/h5/5nz0lxy96xxbngwn5250d00h0000gn/T/ipykernel_2986/2050910066.py:13: SettingWithCopyWarning: \n",
      "A value is trying to be set on a copy of a slice from a DataFrame.\n",
      "Try using .loc[row_indexer,col_indexer] = value instead\n",
      "\n",
      "See the caveats in the documentation: https://pandas.pydata.org/pandas-docs/stable/user_guide/indexing.html#returning-a-view-versus-a-copy\n",
      "  country_df['Id'] = df['Source'].apply(lambda x: dict.get(x, -1))\n",
      "/var/folders/h5/5nz0lxy96xxbngwn5250d00h0000gn/T/ipykernel_2986/2050910066.py:21: FutureWarning: Downcasting behavior in `replace` is deprecated and will be removed in a future version. To retain the old behavior, explicitly call `result.infer_objects(copy=False)`. To opt-in to the future behavior, set `pd.set_option('future.no_silent_downcasting', True)`\n",
      "  sorted_df['Source'] = sorted_df['Source'].replace(dict)\n",
      "/var/folders/h5/5nz0lxy96xxbngwn5250d00h0000gn/T/ipykernel_2986/2050910066.py:22: FutureWarning: Downcasting behavior in `replace` is deprecated and will be removed in a future version. To retain the old behavior, explicitly call `result.infer_objects(copy=False)`. To opt-in to the future behavior, set `pd.set_option('future.no_silent_downcasting', True)`\n",
      "  sorted_df['Target'] = sorted_df['Target'].replace(dict)\n"
     ]
    }
   ],
   "source": [
    "def current_network_study():\n",
    "    df1 = pd.read_csv('Forestry_Trade_Flows_All_Data/Forestry_Trade_Flows_E_All_Data_1.csv', encoding='ISO-8859-1')\n",
    "    df2 = pd.read_csv('Forestry_Trade_Flows_All_Data/Forestry_Trade_Flows_E_All_Data_2.csv', encoding='ISO-8859-1')\n",
    "    # Step 5: Concatenate the two DataFrames\n",
    "    df = pd.read_csv('Forestry_Trade_Flows_All_Data/Forestry_Trade_Flows_E_All_Data.csv', encoding='ISO-8859-1')\n",
    "    #df = pd.concat([df1, df2])\n",
    "    # >10% possible links\n",
    "    df.rename(columns={'Reporter Countries': 'Source', 'Partner Countries': 'Target'}, inplace=True)\n",
    "    \n",
    "    # Get nodes\n",
    "    country_df = df.drop_duplicates(subset=['Source'])\n",
    "    dict = {item: count for count, item in enumerate(country_df['Source'])}\n",
    "    country_df['Id'] = df['Source'].apply(lambda x: dict.get(x, -1))\n",
    "    country_df[['Id', 'Source']].to_csv('current_network_study/countries.csv', index=False)\n",
    "\n",
    "    # Filter for Year 2018 and non-null values\n",
    "    filtered_df = df[(df['Item'] == 'Forest products (export/import)') & (df['Element'] == 'Export Value') & (df['Item'] == 'Forest products (export/import)') & (df['Target'] != 'Total FAO') & (df['Target'] != 'Others (adjustment)') & (df['Target'] != 'Unspecified Area') & (df['Y2018'].notna())]\n",
    "    #filtered_df['Y2018'] = pd.to_numeric(filtered_df['Y2018'], errors='coerce')\n",
    "    sorted_df = filtered_df.sort_values(by='Y2018', ascending=False)\n",
    "    sorted_df = sorted_df[['Source', 'Target']]\n",
    "    sorted_df['Source'] = sorted_df['Source'].replace(dict)\n",
    "    sorted_df['Target'] = sorted_df['Target'].replace(dict)\n",
    "\n",
    "    maximum_edge = len(df['Source'].unique())\n",
    "    maximum_num_edge = maximum_edge * (maximum_edge-1)\n",
    "    density = len(filtered_df) / maximum_num_edge\n",
    "\n",
    "    # Different Thresholds\n",
    "    print(len(sorted_df))\n",
    "    fifteen_percent = int(0.15*maximum_num_edge)\n",
    "    ten_percent = int(0.1*maximum_num_edge)\n",
    "    five_percent = int(0.05*maximum_num_edge)\n",
    "\n",
    "    fifteen_df = sorted_df.head(fifteen_percent)\n",
    "    ten_df = sorted_df.head(ten_percent)\n",
    "    five_df = sorted_df.head(five_percent)\n",
    "    print(density, fifteen_percent, ten_percent, five_percent)\n",
    "    \n",
    "    fifteen_df.to_csv('current_network_study/fifteen_percent.csv', index=False)\n",
    "    ten_df.to_csv('current_network_study/ten_percent.csv', index=False)\n",
    "    five_df.to_csv('current_network_study/five_percent.csv', index=False)\n",
    "    \n",
    "    # Total FAO\n",
    "current_network_study()"
   ]
  },
  {
   "cell_type": "code",
   "execution_count": null,
   "metadata": {},
   "outputs": [
    {
     "name": "stdout",
     "output_type": "stream",
     "text": [
      "3431812903.0\n",
      "1101411872.0\n"
     ]
    }
   ],
   "source": [
    "df = pd.read_csv('Forestry_Trade_Flows_All_Data/Forestry_Trade_Flows_E_All_Data.csv', encoding='ISO-8859-1')\n",
    "filtered_df1 = df[(df['Item'] != 'Forest products (export/import)')]\n",
    "print(filtered_df1['Y2018'].sum())\n",
    "filtered_df2 = df[(df['Item'] == 'Forest products (export/import)')]\n",
    "print(filtered_df2['Y2018'].sum())"
   ]
  }
 ],
 "metadata": {
  "kernelspec": {
   "display_name": "Python 3",
   "language": "python",
   "name": "python3"
  },
  "language_info": {
   "codemirror_mode": {
    "name": "ipython",
    "version": 3
   },
   "file_extension": ".py",
   "mimetype": "text/x-python",
   "name": "python",
   "nbconvert_exporter": "python",
   "pygments_lexer": "ipython3",
   "version": "3.12.6"
  }
 },
 "nbformat": 4,
 "nbformat_minor": 2
}
