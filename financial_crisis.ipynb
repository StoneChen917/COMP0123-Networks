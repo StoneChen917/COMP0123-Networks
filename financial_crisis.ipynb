{
 "cells": [
  {
   "cell_type": "code",
   "execution_count": 4,
   "metadata": {},
   "outputs": [],
   "source": [
    "import pandas as pd"
   ]
  },
  {
   "cell_type": "code",
   "execution_count": 45,
   "metadata": {},
   "outputs": [
    {
     "name": "stdout",
     "output_type": "stream",
     "text": [
      "162\n",
      "2910\n",
      "174320022.0\n",
      "0.2650557870681543\n"
     ]
    },
    {
     "name": "stderr",
     "output_type": "stream",
     "text": [
      "/var/folders/h5/5nz0lxy96xxbngwn5250d00h0000gn/T/ipykernel_25060/337204533.py:15: SettingWithCopyWarning: \n",
      "A value is trying to be set on a copy of a slice from a DataFrame.\n",
      "Try using .loc[row_indexer,col_indexer] = value instead\n",
      "\n",
      "See the caveats in the documentation: https://pandas.pydata.org/pandas-docs/stable/user_guide/indexing.html#returning-a-view-versus-a-copy\n",
      "  country_df['Id'] = country_df['Source'].apply(lambda x: dict.get(x, -1))\n",
      "/var/folders/h5/5nz0lxy96xxbngwn5250d00h0000gn/T/ipykernel_25060/337204533.py:26: FutureWarning: Downcasting behavior in `replace` is deprecated and will be removed in a future version. To retain the old behavior, explicitly call `result.infer_objects(copy=False)`. To opt-in to the future behavior, set `pd.set_option('future.no_silent_downcasting', True)`\n",
      "  sorted_df['Source'] = sorted_df['Source'].replace(dict)\n",
      "/var/folders/h5/5nz0lxy96xxbngwn5250d00h0000gn/T/ipykernel_25060/337204533.py:27: FutureWarning: Downcasting behavior in `replace` is deprecated and will be removed in a future version. To retain the old behavior, explicitly call `result.infer_objects(copy=False)`. To opt-in to the future behavior, set `pd.set_option('future.no_silent_downcasting', True)`\n",
      "  sorted_df['Target'] = sorted_df['Target'].replace(dict)\n"
     ]
    }
   ],
   "source": [
    "import pandas as pd\n",
    "def fc_study():\n",
    "    to_study = 'Y2009'\n",
    "    df1 = pd.read_csv('Forestry_Trade_Flows_All_Data/Forestry_Trade_Flows_E_All_Data_1.csv', encoding='ISO-8859-1')\n",
    "    df2 = pd.read_csv('Forestry_Trade_Flows_All_Data/Forestry_Trade_Flows_E_All_Data_2.csv', encoding='ISO-8859-1')\n",
    "    # Step 5: Concatenate the two DataFrames\n",
    "    #df = pd.read_csv('Forestry_Trade_Flows_All_Data/Forestry_Trade_Flows_E_All_Data.csv', encoding='ISO-8859-1')\n",
    "    df = pd.concat([df1, df2])\n",
    "    # >10% possible links\n",
    "    df.rename(columns={'Reporter Countries': 'Source', 'Partner Countries': 'Target'}, inplace=True)\n",
    "    \n",
    "    # Get nodes\n",
    "    country_df = df.drop_duplicates(subset=['Source'])\n",
    "    dict = {item: count for count, item in enumerate(country_df['Source'])}\n",
    "    country_df['Id'] = country_df['Source'].apply(lambda x: dict.get(x, -1))\n",
    "    country_df[['Id', 'Source']].to_csv('2008/country_list.csv', index=False)\n",
    "    country_list = country_df['Source']\n",
    "\n",
    "    min_value = 1661\n",
    "    # Filter for Year 2018 and non-null values\n",
    "    filtered_df = df[(df['Item'] == 'Forest products (export/import)') & (df['Element'] == 'Export Value') & (df['Item'] == 'Forest products (export/import)') & (df['Target'] != 'Total FAO') & (df['Target'] != 'Others (adjustment)') & (df['Target'] != 'Unspecified Area') & (df[to_study].notna())]\n",
    "    filtered2_df = filtered_df[(filtered_df[to_study] >= min_value)]\n",
    "    #filtered_df['Y2018'] = pd.to_numeric(filtered_df['Y2018'], errors='coerce')\n",
    "    sorted_df = filtered2_df.sort_values(by=to_study, ascending=False)\n",
    "    sorted_df = sorted_df[['Source', 'Target', to_study]]\n",
    "    sorted_df['Source'] = sorted_df['Source'].replace(dict)\n",
    "    sorted_df['Target'] = sorted_df['Target'].replace(dict)\n",
    "    \n",
    "    unique = len(pd.unique(sorted_df[['Source', 'Target']].values.ravel()))\n",
    "    print(unique)\n",
    "\n",
    "    maximum_edge = len(df['Source'].unique())\n",
    "    maximum_num_edge = maximum_edge * (maximum_edge-1)\n",
    "    density = len(filtered_df) / maximum_num_edge\n",
    "\n",
    "    # Different Thresholds\n",
    "    print(len(sorted_df))\n",
    "    print(sorted_df[to_study].sum())\n",
    "    print(density)\n",
    "    \n",
    "    \n",
    "    sorted_df.to_csv('2008/'+to_study+'_edge.csv', index=False)\n",
    "    \n",
    "    # Total FAO\n",
    "fc_study()"
   ]
  },
  {
   "cell_type": "code",
   "execution_count": null,
   "metadata": {},
   "outputs": [],
   "source": []
  }
 ],
 "metadata": {
  "kernelspec": {
   "display_name": "Python 3",
   "language": "python",
   "name": "python3"
  },
  "language_info": {
   "codemirror_mode": {
    "name": "ipython",
    "version": 3
   },
   "file_extension": ".py",
   "mimetype": "text/x-python",
   "name": "python",
   "nbconvert_exporter": "python",
   "pygments_lexer": "ipython3",
   "version": "3.12.6"
  }
 },
 "nbformat": 4,
 "nbformat_minor": 2
}
